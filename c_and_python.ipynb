{
 "cells": [
  {
   "cell_type": "code",
   "execution_count": 2,
   "id": "initial_id",
   "metadata": {
    "ExecuteTime": {
     "end_time": "2024-03-11T10:11:03.753108Z",
     "start_time": "2024-03-11T10:11:03.618522Z"
    }
   },
   "outputs": [
    {
     "name": "stdout",
     "output_type": "stream",
     "text": [
      "nt\n",
      "toto\n"
     ]
    }
   ],
   "source": [
    "import os\n",
    "from ctypes import CDLL, Structure, c_int, POINTER, byref\n",
    "import matplotlib.pyplot as plt\n",
    "from ipywidgets import interact, IntSlider\n",
    "\n",
    "k = 50  # Taille du tableau\n",
    "\n",
    "\n",
    "class Array(Structure):\n",
    "    _fields_ = [(\"array\", POINTER(c_int)),\n",
    "                (\"som_min_max\", c_int),\n",
    "                (\"som_min_i\", c_int),\n",
    "                (\"som_max_i\", c_int),\n",
    "                (\"index_min\", c_int),\n",
    "                (\"index_max\", c_int),\n",
    "                (\"size\", c_int),\n",
    "                (\"step\", c_int)]\n",
    "\n",
    "\n",
    "# Chargez la bibliothèque partagée\n",
    "print(os.name)\n",
    "if os.name == 'nt':  # Windows\n",
    "    lib_path = './cmake-build-debug/libCalculSomMinMaxLib.dll'\n",
    "else:\n",
    "    lib_path = './cmake-build-debug/libCalculSomMinMaxLib.so'  # Unix-like\n",
    "\n",
    "lib = CDLL(lib_path)\n",
    "\n",
    "# Créer une instance de la structure Array\n",
    "arr = Array((c_int * k)(), 0, 0, 0, 0, 0, k, 0)\n",
    "lib.insertion_aleatoire(arr)\n",
    "\n",
    "\n",
    "def plot_step(step):\n",
    "    frame = frames[step]\n",
    "    arr, current_idx, highlighted_min_max, som_min_max, somme_min_i, somme_max_i = frame\n",
    "\n",
    "    plt.figure(figsize=(10, 6))\n",
    "    bars = plt.bar(range(len(arr)), arr, color='lightblue')\n",
    "    for i, bar in enumerate(bars):\n",
    "        if i == current_idx:\n",
    "            bar.set_color('yellow')\n",
    "        elif i in highlighted_min_max:\n",
    "            bar.set_color('red')\n",
    "        elif highlighted_min_max[0] < i < highlighted_min_max[1] or highlighted_min_max[0] > i > highlighted_min_max[1]:\n",
    "            bar.set_color('green')\n",
    "        else:\n",
    "            bar.set_color('lightblue')\n",
    "\n",
    "    plt.title(f\"Étape {current_idx + 1}\")\n",
    "    plt.xlabel(\"Index\")\n",
    "    plt.ylabel(\"Valeur\")\n",
    "    plt.text(0.01, 0.95, f\"Somme min-max: {som_min_max}\", transform=plt.gca().transAxes)\n",
    "    plt.text(0.01, 0.90,\n",
    "             f\"Index min {highlighted_min_max[0]}, Min: {arr[highlighted_min_max[0]]}, Somme min i: {somme_min_i}\",\n",
    "             transform=plt.gca().transAxes)\n",
    "    plt.text(0.01, 0.85,\n",
    "             f\"Index max {highlighted_min_max[1]}, Max: {arr[highlighted_min_max[1]]}, Somme max i: {somme_max_i}\",\n",
    "             transform=plt.gca().transAxes)\n",
    "    plt.show()\n",
    "\n",
    "\n",
    "frames = []\n",
    "array_size = arr.size\n",
    "\n",
    "for step in range(k):\n",
    "    lib.calcul_som_min_max(byref(arr))\n",
    "\n",
    "    array = []\n",
    "    for index in range(array_size):\n",
    "        array.append(arr.array[index])\n",
    "    frames.append((array, arr.step - 1, [arr.index_min, arr.index_max], arr.som_min_max, arr.som_min_i, arr.som_max_i))\n",
    "\n",
    "# Utiliser interact pour visualiser chaque étape\n",
    "interact(plot_step, step=IntSlider(min=0, max=arr.size - 1, step=0, value=0))\n"
   ]
  },
  {
   "cell_type": "code",
   "execution_count": null,
   "id": "f4beebe2c6e328d4",
   "metadata": {
    "collapsed": false
   },
   "outputs": [],
   "source": []
  }
 ],
 "metadata": {
  "kernelspec": {
   "display_name": "Python 3 (ipykernel)",
   "language": "python",
   "name": "python3"
  },
  "language_info": {
   "codemirror_mode": {
    "name": "ipython",
    "version": 3
   },
   "file_extension": ".py",
   "mimetype": "text/x-python",
   "name": "python",
   "nbconvert_exporter": "python",
   "pygments_lexer": "ipython3",
   "version": "3.12.2"
  }
 },
 "nbformat": 4,
 "nbformat_minor": 5
}
