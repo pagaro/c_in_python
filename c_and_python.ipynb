{
 "cells": [
  {
   "cell_type": "code",
   "execution_count": 72,
   "id": "2fa689fc91157478",
   "metadata": {
    "collapsed": false,
    "ExecuteTime": {
     "end_time": "2024-03-11T14:38:33.922258Z",
     "start_time": "2024-03-11T14:38:33.918687Z"
    }
   },
   "outputs": [],
   "source": [
    "import os\n",
    "from ctypes import CDLL, Structure, c_int, POINTER, byref\n",
    "import matplotlib.pyplot as plt\n",
    "\n",
    "k = 50  # Taille du tableau"
   ]
  },
  {
   "cell_type": "code",
   "outputs": [],
   "source": [
    "# Refaire la structure c Array en utilisant ctypes pour la bibliothèque partagée\n",
    "class Array(Structure):\n",
    "    _fields_ = [(\"array\", POINTER(c_int)),\n",
    "                (\"som_min_max\", c_int),\n",
    "                (\"som_min_i\", c_int),\n",
    "                (\"som_max_i\", c_int),\n",
    "                (\"index_min\", c_int),\n",
    "                (\"index_max\", c_int),\n",
    "                (\"size\", c_int),\n",
    "                (\"step\", c_int)]"
   ],
   "metadata": {
    "collapsed": false,
    "ExecuteTime": {
     "end_time": "2024-03-11T14:38:33.927464Z",
     "start_time": "2024-03-11T14:38:33.923558Z"
    }
   },
   "id": "2f29ebded6186715",
   "execution_count": 73
  },
  {
   "cell_type": "code",
   "outputs": [
    {
     "name": "stdout",
     "output_type": "stream",
     "text": [
      "nt\n"
     ]
    }
   ],
   "source": [
    "# Chargez la bibliothèque partagée\n",
    "print(os.name)\n",
    "if os.name == 'nt':  # Windows\n",
    "    lib_path = './cmake-build-debug/libCalculSomMinMaxLib.dll'\n",
    "else:\n",
    "    lib_path = './cmake-build-debug/libCalculSomMinMaxLib.so'  # Unix-like\n",
    "\n",
    "lib = CDLL(lib_path)"
   ],
   "metadata": {
    "collapsed": false,
    "ExecuteTime": {
     "end_time": "2024-03-11T14:38:33.933316Z",
     "start_time": "2024-03-11T14:38:33.928476Z"
    }
   },
   "id": "29b410e57f99ad95",
   "execution_count": 74
  },
  {
   "cell_type": "code",
   "outputs": [],
   "source": [
    "# Créer une fonction pour visualiser chaque étape\n",
    "def plot_step(step, fig=None, ax=None):\n",
    "    if fig is None or ax is None:\n",
    "        fig, ax = plt.subplots(figsize=(10, 6))\n",
    "        own_figure = True\n",
    "    else:\n",
    "        own_figure = False\n",
    "\n",
    "    frame = frames[step]\n",
    "    arr, current_idx, highlighted_min_max, som_min_max, somme_min_i, somme_max_i = frame\n",
    "    \n",
    "    # if own_figure:\n",
    "    ax.clear()  # Efface le contenu actuel des axes\n",
    "    bars = ax.bar(range(len(arr)), arr, color='lightblue')\n",
    "    for i, bar in enumerate(bars):\n",
    "        if i == current_idx:\n",
    "            bar.set_color('yellow')\n",
    "        elif i in highlighted_min_max:\n",
    "            bar.set_color('red')\n",
    "        elif highlighted_min_max[0] < i < highlighted_min_max[1] or highlighted_min_max[0] > i > highlighted_min_max[1]:\n",
    "            bar.set_color('green')\n",
    "        else:\n",
    "            bar.set_color('lightblue')\n",
    "    \n",
    "    ax.set(title=f\"Étape {current_idx + 1}\", xlabel=\"Index\", ylabel=\"Valeur\")\n",
    "    ax.text(0.01, 0.95, f\"Somme min-max: {som_min_max}\", transform=ax.transAxes)\n",
    "    ax.text(0.01, 0.90, f\"Index min {highlighted_min_max[0]}, Min: {arr[highlighted_min_max[0]]}, Somme min i: {somme_min_i}\", transform=ax.transAxes)\n",
    "    ax.text(0.01, 0.85, f\"Index max {highlighted_min_max[1]}, Max: {arr[highlighted_min_max[1]]}, Somme max i: {somme_max_i}\", transform=ax.transAxes)\n",
    "    \n",
    "    if own_figure:\n",
    "        plt.show()"
   ],
   "metadata": {
    "collapsed": false,
    "ExecuteTime": {
     "end_time": "2024-03-11T14:38:33.942007Z",
     "start_time": "2024-03-11T14:38:33.934323Z"
    }
   },
   "id": "8a7b81a38add2cf",
   "execution_count": 75
  },
  {
   "cell_type": "code",
   "outputs": [],
   "source": [
    "# Créer une instance de la structure Array\n",
    "arr = Array((c_int * k)(), 0, 0, 0, 0, 0, k, 0)\n",
    "lib.insertion_aleatoire(arr)\n",
    "\n",
    "frames = []\n",
    "array_size = arr.size"
   ],
   "metadata": {
    "collapsed": false,
    "ExecuteTime": {
     "end_time": "2024-03-11T14:38:33.951362Z",
     "start_time": "2024-03-11T14:38:33.947291Z"
    }
   },
   "id": "7404877c780d5730",
   "execution_count": 76
  },
  {
   "cell_type": "code",
   "outputs": [],
   "source": [
    "# Exécutez k étapes et enregistrez les résultats\n",
    "for step in range(k):\n",
    "    lib.calcul_som_min_max(byref(arr))\n",
    "\n",
    "    array = []\n",
    "    for index in range(array_size):\n",
    "        array.append(arr.array[index])\n",
    "    frames.append((array, arr.step - 1, [arr.index_min, arr.index_max], arr.som_min_max, arr.som_min_i, arr.som_max_i))"
   ],
   "metadata": {
    "collapsed": false,
    "ExecuteTime": {
     "end_time": "2024-03-11T14:38:33.982163Z",
     "start_time": "2024-03-11T14:38:33.976432Z"
    }
   },
   "id": "de0d5efb5112f362",
   "execution_count": 77
  },
  {
   "cell_type": "code",
   "outputs": [
    {
     "data": {
      "text/plain": "<Figure size 1000x600 with 1 Axes>",
      "image/png": "[encoded data removed]"
     },
     "metadata": {},
     "output_type": "display_data"
    }
   ],
   "source": [
    "# Utiliser une animation (GIF) pour visualiser chaque étape\n",
    "from matplotlib.animation import FuncAnimation, PillowWriter\n",
    "\n",
    "fig, ax = plt.subplots(figsize=(10, 6))\n",
    "\n",
    "# Créez l'animation en utilisant la fonction modifiée\n",
    "ani = FuncAnimation(fig, lambda step: plot_step(step, fig, ax), frames=len(frames), repeat=False)\n",
    "\n",
    "# Sauvegardez l'animation\n",
    "ani.save('sum_between_min_max_array.gif', writer=PillowWriter(fps=5))"
   ],
   "metadata": {
    "collapsed": false,
    "ExecuteTime": {
     "end_time": "2024-03-11T14:38:40.206121Z",
     "start_time": "2024-03-11T14:38:33.983481Z"
    }
   },
   "id": "99ee4e61f2c0a698",
   "execution_count": 78
  },
  {
   "cell_type": "code",
   "outputs": [
    {
     "data": {
      "text/plain": "interactive(children=(IntSlider(value=0, description='step', max=49, step=0), Output()), _dom_classes=('widget…",
      "application/vnd.jupyter.widget-view+json": {
       "version_major": 2,
       "version_minor": 0,
       "model_id": "1a96d650a3e249b18e38c495bf198030"
      }
     },
     "metadata": {},
     "output_type": "display_data"
    },
    {
     "data": {
      "text/plain": "<function __main__.interactive_plot_step(step)>"
     },
     "execution_count": 79,
     "metadata": {},
     "output_type": "execute_result"
    }
   ],
   "source": [
    "# Utiliser interact pour visualiser chaque étape\n",
    "from ipywidgets import interact, IntSlider\n",
    "\n",
    "def interactive_plot_step(step):\n",
    "    plot_step(step)\n",
    "    \n",
    "interact(interactive_plot_step, step=IntSlider(min=0, max=array_size - 1, step=0, value=0))"
   ],
   "metadata": {
    "ExecuteTime": {
     "end_time": "2024-03-11T14:38:40.393514Z",
     "start_time": "2024-03-11T14:38:40.207217Z"
    }
   },
   "id": "initial_id",
   "execution_count": 79
  }
 ],
 "metadata": {
  "kernelspec": {
   "display_name": "Python 3 (ipykernel)",
   "language": "python",
   "name": "python3"
  },
  "language_info": {
   "codemirror_mode": {
    "name": "ipython",
    "version": 3
   },
   "file_extension": ".py",
   "mimetype": "text/x-python",
   "name": "python",
   "nbconvert_exporter": "python",
   "pygments_lexer": "ipython3",
   "version": "3.12.2"
  }
 },
 "nbformat": 4,
 "nbformat_minor": 5
}
