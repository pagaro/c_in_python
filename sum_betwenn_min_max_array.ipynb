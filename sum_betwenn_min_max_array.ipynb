{
 "cells": [
  {
   "cell_type": "code",
   "outputs": [],
   "source": [
    "# Importer les bibliothèques nécessaires\n",
    "import numpy as np\n",
    "import matplotlib.pyplot as plt\n",
    "from matplotlib.animation import FuncAnimation, PillowWriter"
   ],
   "metadata": {
    "collapsed": false,
    "ExecuteTime": {
     "end_time": "2024-03-06T10:12:34.501581Z",
     "start_time": "2024-03-06T10:12:34.498119Z"
    }
   },
   "id": "3fc1cb36363ff649",
   "execution_count": 43
  },
  {
   "cell_type": "code",
   "outputs": [],
   "source": [
    "# Définir la fonction pour trouver la somme entre min et max\n",
    "def find_sum_between_min_max(arr):\n",
    "    if len(arr) < 2:\n",
    "        yield arr, [], [], 0, 0, -1, 0, 0\n",
    "        return\n",
    "\n",
    "    min_idx, max_idx = 0, 0\n",
    "    somme_min_i, somme_max_i = arr[0], arr[0]\n",
    "    for i in range(1, len(arr)):\n",
    "        somme_min_i = min(somme_min_i, arr[i])\n",
    "        somme_max_i = max(somme_max_i, arr[i])\n",
    "\n",
    "        if arr[i] < arr[min_idx]:\n",
    "            min_idx = i\n",
    "        if arr[i] > arr[max_idx]:\n",
    "            max_idx = i\n",
    "\n",
    "        start, end = sorted([min_idx, max_idx])\n",
    "        current_sum = sum(arr[start + 1:end])\n",
    "        num_elements = max(0, end - start - 1)\n",
    "\n",
    "        yield arr, [min_idx, max_idx], [], somme_min_i, somme_max_i, i, current_sum, num_elements\n",
    "\n",
    "    yield arr, [min_idx, max_idx], list(range(start + 1, end)), somme_min_i, somme_max_i, -1, current_sum, num_elements"
   ],
   "metadata": {
    "collapsed": false,
    "ExecuteTime": {
     "end_time": "2024-03-06T10:12:34.509565Z",
     "start_time": "2024-03-06T10:12:34.503009Z"
    }
   },
   "id": "3c742103f98c7fbb",
   "execution_count": 44
  },
  {
   "cell_type": "code",
   "outputs": [],
   "source": [
    "# Définir la fonction de mise à jour pour l'animation\n",
    "def update(frame, bars, somme_min_i_text, somme_max_i_text, current_sum_text, num_elements_text):\n",
    "    arr, highlighted_min_max, sum_range, somme_min_i, somme_max_i, current_idx, current_sum, num_elements = frame\n",
    "    for i, bar in enumerate(bars):\n",
    "        if i == current_idx:\n",
    "            bar.set_color('cyan')\n",
    "        elif i in highlighted_min_max:\n",
    "            bar.set_color('red')\n",
    "        elif i in sum_range:\n",
    "            bar.set_color('green')\n",
    "        else:\n",
    "            bar.set_color('lightblue')\n",
    "        bar.set_height(arr[i])\n",
    "\n",
    "    somme_min_i_text.set_text(f\"Min: {arr[min(highlighted_min_max)] if highlighted_min_max else 'N/A'}\")\n",
    "    somme_max_i_text.set_text(f\"Max: {arr[max(highlighted_min_max)] if highlighted_min_max else 'N/A'}\")\n",
    "    current_sum_text.set_text(f\"Somme courante: {current_sum}\")\n",
    "    num_elements_text.set_text(f\"Éléments entre min et max: {num_elements}\")"
   ],
   "metadata": {
    "collapsed": false,
    "ExecuteTime": {
     "end_time": "2024-03-06T10:12:34.515359Z",
     "start_time": "2024-03-06T10:12:34.510603Z"
    }
   },
   "id": "3989662c9a9749d",
   "execution_count": 45
  },
  {
   "cell_type": "code",
   "outputs": [
    {
     "data": {
      "text/plain": "<Figure size 640x480 with 1 Axes>",
      "image/png": "[encoded data removed]"
     },
     "metadata": {},
     "output_type": "display_data"
    }
   ],
   "source": [
    "# Initialiser les données et configurer l'animation\n",
    "np.random.seed(0)\n",
    "arr = np.random.randint(0, 100, 50)\n",
    "fig, ax = plt.subplots()\n",
    "bars = plt.bar(range(len(arr)), arr, color='lightblue')\n",
    "somme_min_i_text = ax.text(0.01, 0.95, \"\", transform=ax.transAxes)\n",
    "somme_max_i_text = ax.text(0.01, 0.90, \"\", transform=ax.transAxes)\n",
    "current_sum_text = ax.text(0.01, 0.85, \"\", transform=ax.transAxes)\n",
    "num_elements_text = ax.text(0.01, 0.80, \"\", transform=ax.transAxes)\n",
    "\n",
    "plt.show()"
   ],
   "metadata": {
    "collapsed": false,
    "ExecuteTime": {
     "end_time": "2024-03-06T10:12:34.626194Z",
     "start_time": "2024-03-06T10:12:34.516371Z"
    }
   },
   "id": "5517ab35523b3f06",
   "execution_count": 46
  },
  {
   "cell_type": "code",
   "outputs": [],
   "source": [
    "# Enregistrer l'animation en tant que fichier GIF\n",
    "from matplotlib.animation import PillowWriter\n",
    "ani = FuncAnimation(fig, func=update, frames=find_sum_between_min_max(arr),\n",
    "                    fargs=(bars, somme_min_i_text, somme_max_i_text, current_sum_text, num_elements_text), blit=False,\n",
    "                    repeat=False, cache_frame_data=False)\n",
    "\n",
    "ani.save('sum_between_min_max_array.gif', writer=PillowWriter(fps=5))"
   ],
   "metadata": {
    "collapsed": false,
    "ExecuteTime": {
     "end_time": "2024-03-06T10:12:37.459215Z",
     "start_time": "2024-03-06T10:12:34.627204Z"
    }
   },
   "id": "57a979593e8d7407",
   "execution_count": 47
  }
 ],
 "metadata": {
  "kernelspec": {
   "display_name": "Python 3",
   "language": "python",
   "name": "python3"
  },
  "language_info": {
   "codemirror_mode": {
    "name": "ipython",
    "version": 2
   },
   "file_extension": ".py",
   "mimetype": "text/x-python",
   "name": "python",
   "nbconvert_exporter": "python",
   "pygments_lexer": "ipython2",
   "version": "2.7.6"
  }
 },
 "nbformat": 4,
 "nbformat_minor": 5
}
