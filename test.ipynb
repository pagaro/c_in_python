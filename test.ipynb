{
 "cells": [
  {
   "cell_type": "code",
   "execution_count": 6,
   "id": "initial_id",
   "metadata": {
    "ExecuteTime": {
     "end_time": "2024-03-08T08:37:36.387820Z",
     "start_time": "2024-03-08T08:37:36.243683Z"
    }
   },
   "outputs": [
    {
     "data": {
      "text/plain": "interactive(children=(IntSlider(value=0, description='step', max=49), Output()), _dom_classes=('widget-interac…",
      "application/vnd.jupyter.widget-view+json": {
       "version_major": 2,
       "version_minor": 0,
       "model_id": "b6da670e697143188efbac6659a6792a"
      }
     },
     "metadata": {},
     "output_type": "display_data"
    },
    {
     "data": {
      "text/plain": "<function __main__.plot_step(step)>"
     },
     "execution_count": 6,
     "metadata": {},
     "output_type": "execute_result"
    }
   ],
   "source": [
    "import numpy as np\n",
    "import matplotlib.pyplot as plt\n",
    "from ipywidgets import interact, IntSlider\n",
    "\n",
    "def find_sum_between_min_max(arr):\n",
    "    if len(arr) < 2:\n",
    "        yield arr, [], [], 0, 0, -1, 0, 0  # Ajout de la somme courante et du nombre d'éléments\n",
    "        return\n",
    "\n",
    "    min_idx, max_idx = 0, 0\n",
    "    somme_min_i, somme_max_i = arr[0], arr[0]\n",
    "    current_sum = 0\n",
    "    for i in range(1, len(arr)):\n",
    "        somme_min_i = min(somme_min_i, arr[i])\n",
    "        somme_max_i = max(somme_max_i, arr[i])\n",
    "\n",
    "        if arr[i] < arr[min_idx]:\n",
    "            min_idx = i\n",
    "        if arr[i] > arr[max_idx]:\n",
    "            max_idx = i\n",
    "\n",
    "        start, end = sorted([min_idx, max_idx])\n",
    "        current_sum = sum(arr[start + 1:end])\n",
    "        num_elements = max(0, end - start - 1)\n",
    "\n",
    "        yield arr, [min_idx, max_idx], list(range(start + 1, end)), somme_min_i, somme_max_i, i, current_sum, num_elements\n",
    "\n",
    "    yield arr, [min_idx, max_idx], list(range(start + 1, end)), somme_min_i, somme_max_i, -1, current_sum, num_elements\n",
    "\n",
    "def plot_step(step):\n",
    "    frame = frames[step]\n",
    "    arr, highlighted_min_max, sum_range, somme_min_i, somme_max_i, current_idx, current_sum, num_elements = frame\n",
    "\n",
    "    plt.figure(figsize=(10, 6))\n",
    "    bars = plt.bar(range(len(arr)), arr, color='lightblue')\n",
    "    for i, bar in enumerate(bars):\n",
    "        if i == current_idx:\n",
    "            bar.set_color('yellow')\n",
    "        elif i in highlighted_min_max:\n",
    "            bar.set_color('red')\n",
    "        elif i in sum_range:\n",
    "            bar.set_color('green')\n",
    "        else:\n",
    "            bar.set_color('lightblue')\n",
    "\n",
    "    plt.text(0.01, 0.95, f\"Min: {arr[min(highlighted_min_max)] if highlighted_min_max else 'N/A'}\", transform=plt.gca().transAxes)\n",
    "    plt.text(0.01, 0.90, f\"Max: {arr[max(highlighted_min_max)] if highlighted_min_max else 'N/A'}\", transform=plt.gca().transAxes)\n",
    "    plt.text(0.01, 0.85, f\"Somme courante: {current_sum}\", transform=plt.gca().transAxes)\n",
    "    plt.text(0.01, 0.80, f\"Éléments entre min et max: {num_elements}\", transform=plt.gca().transAxes)\n",
    "    plt.show()\n",
    "\n",
    "np.random.seed(0)\n",
    "arr = np.random.randint(0, 100, 50)\n",
    "frames = list(find_sum_between_min_max(arr))\n",
    "\n",
    "interact(plot_step, step=IntSlider(min=0, max=len(frames)-1, step=1, value=0))\n"
   ]
  },
  {
   "cell_type": "code",
   "execution_count": null,
   "id": "9c75bf3bf4a820ef",
   "metadata": {
    "collapsed": false
   },
   "outputs": [],
   "source": []
  }
 ],
 "metadata": {
  "kernelspec": {
   "display_name": "Python 3 (ipykernel)",
   "language": "python",
   "name": "python3"
  },
  "language_info": {
   "codemirror_mode": {
    "name": "ipython",
    "version": 3
   },
   "file_extension": ".py",
   "mimetype": "text/x-python",
   "name": "python",
   "nbconvert_exporter": "python",
   "pygments_lexer": "ipython3",
   "version": "3.12.2"
  }
 },
 "nbformat": 4,
 "nbformat_minor": 5
}
